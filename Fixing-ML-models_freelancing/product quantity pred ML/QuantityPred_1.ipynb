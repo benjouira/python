{
 "cells": [
  {
   "cell_type": "code",
   "execution_count": 1,
   "id": "2f16cf30",
   "metadata": {},
   "outputs": [],
   "source": [
    "#importation des bibliothéque \n",
    "import statsmodels.formula.api as s\n",
    "from sklearn.linear_model import LinearRegression\n",
    "from sklearn.metrics import confusion_matrix,accuracy_score\n",
    "from matplotlib import pyplot as plt\n",
    "from sklearn.model_selection import train_test_split\n",
    "import numpy as np\n",
    "import pandas as pd\n",
    "import datetime\n",
    "\n",
    "from sklearn.preprocessing import LabelEncoder\n",
    "from mlxtend.preprocessing import minmax_scaling\n",
    "#importation base de donnée\n",
    "# df = pd.read_csv('/content/drive/MyDrive/stageASM/dataset.csv',header=None)\n",
    "\n"
   ]
  },
  {
   "cell_type": "code",
   "execution_count": 2,
   "id": "ba6e3ec2",
   "metadata": {},
   "outputs": [],
   "source": [
    "df = pd.read_csv(r'C:\\Users\\rabi3\\OneDrive\\Bureau\\freelance\\DataSets\\Fixing-ML-models_freelancing_Datasets/dataset.csv')\n",
    "\n",
    "# for testing\n",
    "dff = df"
   ]
  },
  {
   "cell_type": "code",
   "execution_count": 3,
   "id": "57da6d37",
   "metadata": {},
   "outputs": [
    {
     "name": "stdout",
     "output_type": "stream",
     "text": [
      "<class 'pandas.core.frame.DataFrame'>\n",
      "RangeIndex: 1048575 entries, 0 to 1048574\n",
      "Data columns (total 4 columns):\n",
      " #   Column           Non-Null Count    Dtype  \n",
      "---  ------           --------------    -----  \n",
      " 0   ART_Designation  1048575 non-null  object \n",
      " 1   price            1048575 non-null  float64\n",
      " 2   ddm              1048575 non-null  object \n",
      " 3   qte              1048575 non-null  int64  \n",
      "dtypes: float64(1), int64(1), object(2)\n",
      "memory usage: 32.0+ MB\n"
     ]
    }
   ],
   "source": [
    "df.info()"
   ]
  },
  {
   "cell_type": "code",
   "execution_count": 4,
   "id": "80c78fb7",
   "metadata": {},
   "outputs": [],
   "source": [
    "le = LabelEncoder()\n",
    "df[\"ART_code\"] = le.fit_transform(df[\"ART_Designation\"])"
   ]
  },
  {
   "cell_type": "code",
   "execution_count": 5,
   "id": "7874707f",
   "metadata": {},
   "outputs": [
    {
     "name": "stderr",
     "output_type": "stream",
     "text": [
      "c:\\Users\\rabi3\\AppData\\Local\\Programs\\Python\\Python310\\lib\\site-packages\\mlxtend\\preprocessing\\scaling.py:40: FutureWarning: Support for multi-dimensional indexing (e.g. `obj[:, None]`) is deprecated and will be removed in a future version.  Convert to a numpy array before indexing instead.\n",
      "  ary_new = ary_new[:, np.newaxis]\n"
     ]
    }
   ],
   "source": [
    "# mix-max scale the data between 0 and 1\n",
    "# minmax_scaling is a function loaded from library\n",
    "df['ART_scaled']= minmax_scaling(df[\"ART_code\"] , columns=[0])"
   ]
  },
  {
   "cell_type": "code",
   "execution_count": 6,
   "id": "da2964a5",
   "metadata": {},
   "outputs": [
    {
     "data": {
      "text/plain": [
       "14307"
      ]
     },
     "execution_count": 6,
     "metadata": {},
     "output_type": "execute_result"
    }
   ],
   "source": [
    "# number Of Prodect\n",
    "df['ART_Designation'].value_counts().count()"
   ]
  },
  {
   "cell_type": "code",
   "execution_count": 7,
   "id": "f3ff57e4",
   "metadata": {},
   "outputs": [],
   "source": [
    "# delete product with negative quantity\n",
    "def delete_Qte_Negative (df):\n",
    "    return df[df['qte']>0]"
   ]
  },
  {
   "cell_type": "code",
   "execution_count": 8,
   "id": "7b4c3ad8",
   "metadata": {},
   "outputs": [],
   "source": [
    "# delete product with negative price\n",
    "def delete_Price_Negative (df):\n",
    "    return df[df['price']>0]"
   ]
  },
  {
   "cell_type": "code",
   "execution_count": 9,
   "id": "f75ad9c9",
   "metadata": {},
   "outputs": [],
   "source": [
    "df = delete_Qte_Negative (df)\n",
    "df = delete_Price_Negative (df)"
   ]
  },
  {
   "cell_type": "code",
   "execution_count": 10,
   "id": "4442dca1",
   "metadata": {},
   "outputs": [],
   "source": [
    "# nfaskhou les produits eli ma tbe3oush barsha\n",
    "# mathalan produit tbe3 mara wa7da fi dataset fiha malyoun vente lazem yetfasakh khater yetsama outliers w ynjaem \n",
    "# y8altelna el model \n",
    "#  we delete products which had been sold less than 50 times in the dataset\n",
    "def delete_Outliers(df):\n",
    "    return df.groupby('ART_Designation').filter(lambda x : len(x)>50)"
   ]
  },
  {
   "cell_type": "code",
   "execution_count": 44,
   "id": "8bd75e53",
   "metadata": {},
   "outputs": [],
   "source": [
    "#  we delete << foreach product >> products which had been sold less than 10 times \"grouped by quantity\"  in the dataset\n",
    "def delete_product_Outliers(df):\n",
    "    return df.groupby(['ART_Designation','qte']).filter(lambda x : len(x)>15)"
   ]
  },
  {
   "cell_type": "code",
   "execution_count": 45,
   "id": "336bac98",
   "metadata": {},
   "outputs": [],
   "source": [
    "df = delete_Outliers(df)\n",
    "df = delete_product_Outliers(df)"
   ]
  },
  {
   "cell_type": "code",
   "execution_count": null,
   "id": "e41dbe79",
   "metadata": {},
   "outputs": [],
   "source": [
    "df['day'] = pd.DatetimeIndex(df['ddm']).day\n",
    "df['month'] = pd.DatetimeIndex(df['ddm']).month\n",
    "df['day_of_week'] = pd.DatetimeIndex(df['ddm']).weekday"
   ]
  },
  {
   "cell_type": "code",
   "execution_count": 47,
   "id": "50f5d6f7",
   "metadata": {},
   "outputs": [],
   "source": [
    "df = df.reset_index()"
   ]
  },
  {
   "cell_type": "code",
   "execution_count": 48,
   "id": "f36132a1",
   "metadata": {},
   "outputs": [],
   "source": [
    "df_perDay = df[['ART_code','day','month','qte']].copy()\n",
    "df_perWeek = df[['ART_code','day_of_week','month','qte']].copy()"
   ]
  },
  {
   "cell_type": "code",
   "execution_count": 49,
   "id": "5920d814",
   "metadata": {},
   "outputs": [
    {
     "name": "stdout",
     "output_type": "stream",
     "text": [
      "        ART_code  day  month  qte\n",
      "0           5381   31     12    2\n",
      "1           2480   31     12    1\n",
      "2          13256   31     12    2\n",
      "3          11687   31     12    2\n",
      "4           3407   31     12    6\n",
      "...          ...  ...    ...  ...\n",
      "833044      2055   20     10    1\n",
      "833045      7602   20     10    1\n",
      "833046      4580   20     10    1\n",
      "833047      7502   20     10    1\n",
      "833048      1438   20     10    2\n",
      "\n",
      "[833049 rows x 4 columns]         ART_code  day_of_week  month  qte\n",
      "0           5381            4     12    2\n",
      "1           2480            4     12    1\n",
      "2          13256            4     12    2\n",
      "3          11687            4     12    2\n",
      "4           3407            4     12    6\n",
      "...          ...          ...    ...  ...\n",
      "833044      2055            2     10    1\n",
      "833045      7602            2     10    1\n",
      "833046      4580            2     10    1\n",
      "833047      7502            2     10    1\n",
      "833048      1438            2     10    2\n",
      "\n",
      "[833049 rows x 4 columns]\n"
     ]
    }
   ],
   "source": [
    "# day from 1 to 31\n",
    "df[df['ART_Designation']==\"EAU M. SAFIA 1.5L /QT6\"]\n",
    "print(df_perDay, df_perWeek)"
   ]
  },
  {
   "cell_type": "code",
   "execution_count": 50,
   "id": "73bba156",
   "metadata": {},
   "outputs": [],
   "source": [
    "x=df_perDay[['ART_code', 'day', 'month']]\n",
    "x2=df_perWeek[['ART_code', 'day_of_week', 'month']]\n",
    "y=df_perDay['qte']"
   ]
  },
  {
   "cell_type": "code",
   "execution_count": 51,
   "id": "baa7b8e7",
   "metadata": {},
   "outputs": [],
   "source": [
    "x_train,x_test,y_train,y_test=train_test_split(x,y,test_size=0.1)"
   ]
  },
  {
   "cell_type": "code",
   "execution_count": 52,
   "id": "57cbe4d3",
   "metadata": {},
   "outputs": [
    {
     "name": "stdout",
     "output_type": "stream",
     "text": [
      "2.7364374468945347\n",
      "[-3.47697823e-05 -6.21985294e-03  8.05132716e-04]\n"
     ]
    }
   ],
   "source": [
    "reg=LinearRegression()\n",
    "reg.fit(x_train,y_train)\n",
    "print ( reg. intercept_ ) \n",
    "print ( reg. coef_ )"
   ]
  },
  {
   "cell_type": "code",
   "execution_count": 53,
   "id": "e30c2073",
   "metadata": {},
   "outputs": [],
   "source": [
    "#Here x.values will have only values without headers\n",
    "y_pred=reg.predict(x_test)"
   ]
  },
  {
   "cell_type": "code",
   "execution_count": 54,
   "id": "1167e448",
   "metadata": {},
   "outputs": [
    {
     "data": {
      "text/html": [
       "<div>\n",
       "<style scoped>\n",
       "    .dataframe tbody tr th:only-of-type {\n",
       "        vertical-align: middle;\n",
       "    }\n",
       "\n",
       "    .dataframe tbody tr th {\n",
       "        vertical-align: top;\n",
       "    }\n",
       "\n",
       "    .dataframe thead th {\n",
       "        text-align: right;\n",
       "    }\n",
       "</style>\n",
       "<table border=\"1\" class=\"dataframe\">\n",
       "  <thead>\n",
       "    <tr style=\"text-align: right;\">\n",
       "      <th></th>\n",
       "      <th>originale</th>\n",
       "      <th>Predictions</th>\n",
       "    </tr>\n",
       "  </thead>\n",
       "  <tbody>\n",
       "    <tr>\n",
       "      <th>592636</th>\n",
       "      <td>1</td>\n",
       "      <td>2.243046</td>\n",
       "    </tr>\n",
       "    <tr>\n",
       "      <th>619761</th>\n",
       "      <td>1</td>\n",
       "      <td>2.338341</td>\n",
       "    </tr>\n",
       "    <tr>\n",
       "      <th>43473</th>\n",
       "      <td>2</td>\n",
       "      <td>2.366696</td>\n",
       "    </tr>\n",
       "    <tr>\n",
       "      <th>798801</th>\n",
       "      <td>2</td>\n",
       "      <td>2.445044</td>\n",
       "    </tr>\n",
       "    <tr>\n",
       "      <th>572310</th>\n",
       "      <td>1</td>\n",
       "      <td>2.710659</td>\n",
       "    </tr>\n",
       "    <tr>\n",
       "      <th>...</th>\n",
       "      <td>...</td>\n",
       "      <td>...</td>\n",
       "    </tr>\n",
       "    <tr>\n",
       "      <th>10921</th>\n",
       "      <td>1</td>\n",
       "      <td>2.079496</td>\n",
       "    </tr>\n",
       "    <tr>\n",
       "      <th>188362</th>\n",
       "      <td>3</td>\n",
       "      <td>2.551533</td>\n",
       "    </tr>\n",
       "    <tr>\n",
       "      <th>555920</th>\n",
       "      <td>1</td>\n",
       "      <td>2.406737</td>\n",
       "    </tr>\n",
       "    <tr>\n",
       "      <th>329785</th>\n",
       "      <td>1</td>\n",
       "      <td>2.205700</td>\n",
       "    </tr>\n",
       "    <tr>\n",
       "      <th>169419</th>\n",
       "      <td>2</td>\n",
       "      <td>2.355868</td>\n",
       "    </tr>\n",
       "  </tbody>\n",
       "</table>\n",
       "<p>83305 rows × 2 columns</p>\n",
       "</div>"
      ],
      "text/plain": [
       "        originale  Predictions\n",
       "592636          1     2.243046\n",
       "619761          1     2.338341\n",
       "43473           2     2.366696\n",
       "798801          2     2.445044\n",
       "572310          1     2.710659\n",
       "...           ...          ...\n",
       "10921           1     2.079496\n",
       "188362          3     2.551533\n",
       "555920          1     2.406737\n",
       "329785          1     2.205700\n",
       "169419          2     2.355868\n",
       "\n",
       "[83305 rows x 2 columns]"
      ]
     },
     "execution_count": 54,
     "metadata": {},
     "output_type": "execute_result"
    }
   ],
   "source": [
    "reg_df=pd.DataFrame()\n",
    "reg_df['originale']=y_test\n",
    "reg_df['Predictions']=y_pred\n",
    "reg_df"
   ]
  },
  {
   "cell_type": "code",
   "execution_count": 55,
   "id": "63f3235e",
   "metadata": {},
   "outputs": [],
   "source": [
    "x2_train,x2_test,y_train,y_test=train_test_split(x2,y,test_size=0.1)"
   ]
  },
  {
   "cell_type": "code",
   "execution_count": 56,
   "id": "88582f3c",
   "metadata": {},
   "outputs": [
    {
     "name": "stdout",
     "output_type": "stream",
     "text": [
      "2.6366912035577035\n",
      "[-3.50264373e-05 -4.85527251e-04  1.20665926e-03]\n"
     ]
    }
   ],
   "source": [
    "reg=LinearRegression()\n",
    "reg.fit(x2_train,y_train)\n",
    "print ( reg. intercept_ ) \n",
    "print ( reg. coef_ )"
   ]
  },
  {
   "cell_type": "code",
   "execution_count": 57,
   "id": "cfe75e2a",
   "metadata": {},
   "outputs": [],
   "source": [
    "#Here x.values will have only values without headers\n",
    "y_pred=reg.predict(x2_test)"
   ]
  },
  {
   "cell_type": "code",
   "execution_count": 58,
   "id": "b5d60bb8",
   "metadata": {},
   "outputs": [
    {
     "data": {
      "text/html": [
       "<div>\n",
       "<style scoped>\n",
       "    .dataframe tbody tr th:only-of-type {\n",
       "        vertical-align: middle;\n",
       "    }\n",
       "\n",
       "    .dataframe tbody tr th {\n",
       "        vertical-align: top;\n",
       "    }\n",
       "\n",
       "    .dataframe thead th {\n",
       "        text-align: right;\n",
       "    }\n",
       "</style>\n",
       "<table border=\"1\" class=\"dataframe\">\n",
       "  <thead>\n",
       "    <tr style=\"text-align: right;\">\n",
       "      <th></th>\n",
       "      <th>originale</th>\n",
       "      <th>Predictions</th>\n",
       "    </tr>\n",
       "  </thead>\n",
       "  <tbody>\n",
       "    <tr>\n",
       "      <th>248469</th>\n",
       "      <td>2</td>\n",
       "      <td>2.295281</td>\n",
       "    </tr>\n",
       "    <tr>\n",
       "      <th>322315</th>\n",
       "      <td>1</td>\n",
       "      <td>2.525618</td>\n",
       "    </tr>\n",
       "    <tr>\n",
       "      <th>140215</th>\n",
       "      <td>2</td>\n",
       "      <td>2.302389</td>\n",
       "    </tr>\n",
       "    <tr>\n",
       "      <th>199723</th>\n",
       "      <td>1</td>\n",
       "      <td>2.340244</td>\n",
       "    </tr>\n",
       "    <tr>\n",
       "      <th>428295</th>\n",
       "      <td>12</td>\n",
       "      <td>2.164325</td>\n",
       "    </tr>\n",
       "    <tr>\n",
       "      <th>...</th>\n",
       "      <td>...</td>\n",
       "      <td>...</td>\n",
       "    </tr>\n",
       "    <tr>\n",
       "      <th>61173</th>\n",
       "      <td>1</td>\n",
       "      <td>2.168148</td>\n",
       "    </tr>\n",
       "    <tr>\n",
       "      <th>619700</th>\n",
       "      <td>4</td>\n",
       "      <td>2.358035</td>\n",
       "    </tr>\n",
       "    <tr>\n",
       "      <th>461370</th>\n",
       "      <td>2</td>\n",
       "      <td>2.395453</td>\n",
       "    </tr>\n",
       "    <tr>\n",
       "      <th>190193</th>\n",
       "      <td>1</td>\n",
       "      <td>2.282615</td>\n",
       "    </tr>\n",
       "    <tr>\n",
       "      <th>291515</th>\n",
       "      <td>3</td>\n",
       "      <td>2.569413</td>\n",
       "    </tr>\n",
       "  </tbody>\n",
       "</table>\n",
       "<p>83305 rows × 2 columns</p>\n",
       "</div>"
      ],
      "text/plain": [
       "        originale  Predictions\n",
       "248469          2     2.295281\n",
       "322315          1     2.525618\n",
       "140215          2     2.302389\n",
       "199723          1     2.340244\n",
       "428295         12     2.164325\n",
       "...           ...          ...\n",
       "61173           1     2.168148\n",
       "619700          4     2.358035\n",
       "461370          2     2.395453\n",
       "190193          1     2.282615\n",
       "291515          3     2.569413\n",
       "\n",
       "[83305 rows x 2 columns]"
      ]
     },
     "execution_count": 58,
     "metadata": {},
     "output_type": "execute_result"
    }
   ],
   "source": [
    "reg_df=pd.DataFrame()\n",
    "reg_df['originale']=y_test\n",
    "reg_df['Predictions']=y_pred\n",
    "reg_df"
   ]
  }
 ],
 "metadata": {
  "kernelspec": {
   "display_name": "Python 3.10.5 64-bit",
   "language": "python",
   "name": "python3"
  },
  "language_info": {
   "codemirror_mode": {
    "name": "ipython",
    "version": 3
   },
   "file_extension": ".py",
   "mimetype": "text/x-python",
   "name": "python",
   "nbconvert_exporter": "python",
   "pygments_lexer": "ipython3",
   "version": "3.10.5"
  },
  "vscode": {
   "interpreter": {
    "hash": "897613ab1aa4bea9ec79151ccebecbbbbfcc3701e459b8060ecc561907af02ab"
   }
  }
 },
 "nbformat": 4,
 "nbformat_minor": 5
}
