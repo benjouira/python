{
 "cells": [
  {
   "cell_type": "code",
   "execution_count": 26,
   "id": "2f16cf30",
   "metadata": {},
   "outputs": [],
   "source": [
    "#importation des bibliothéque \n",
    "import statsmodels.formula.api as s\n",
    "from sklearn.linear_model import LinearRegression\n",
    "from sklearn.metrics import confusion_matrix,accuracy_score\n",
    "from matplotlib import pyplot as plt\n",
    "from sklearn.model_selection import train_test_split\n",
    "import numpy as np\n",
    "import pandas as pd\n",
    "import datetime\n",
    "\n",
    "from sklearn.preprocessing import LabelEncoder\n",
    "from mlxtend.preprocessing import minmax_scaling\n",
    "#importation base de donnée\n",
    "# df = pd.read_csv('/content/drive/MyDrive/stageASM/dataset.csv',header=None)\n",
    "\n"
   ]
  },
  {
   "cell_type": "code",
   "execution_count": 27,
   "id": "ba6e3ec2",
   "metadata": {},
   "outputs": [],
   "source": [
    "df = pd.read_csv(r'C:\\Users\\rabi3\\OneDrive\\Bureau\\freelance\\DataSets\\Fixing-ML-models_freelancing_Datasets/dataset.csv')\n",
    "\n",
    "# for testing\n",
    "dff = df"
   ]
  },
  {
   "cell_type": "code",
   "execution_count": 28,
   "id": "57da6d37",
   "metadata": {},
   "outputs": [
    {
     "name": "stdout",
     "output_type": "stream",
     "text": [
      "<class 'pandas.core.frame.DataFrame'>\n",
      "RangeIndex: 1048575 entries, 0 to 1048574\n",
      "Data columns (total 4 columns):\n",
      " #   Column           Non-Null Count    Dtype  \n",
      "---  ------           --------------    -----  \n",
      " 0   ART_Designation  1048575 non-null  object \n",
      " 1   price            1048575 non-null  float64\n",
      " 2   ddm              1048575 non-null  object \n",
      " 3   qte              1048575 non-null  int64  \n",
      "dtypes: float64(1), int64(1), object(2)\n",
      "memory usage: 32.0+ MB\n"
     ]
    }
   ],
   "source": [
    "df.info()"
   ]
  },
  {
   "cell_type": "code",
   "execution_count": 29,
   "id": "80c78fb7",
   "metadata": {},
   "outputs": [],
   "source": [
    "le = LabelEncoder()\n",
    "df[\"ART_code\"] = le.fit_transform(df[\"ART_Designation\"])"
   ]
  },
  {
   "cell_type": "code",
   "execution_count": 30,
   "id": "7874707f",
   "metadata": {},
   "outputs": [
    {
     "name": "stderr",
     "output_type": "stream",
     "text": [
      "c:\\Users\\rabi3\\AppData\\Local\\Programs\\Python\\Python310\\lib\\site-packages\\mlxtend\\preprocessing\\scaling.py:40: FutureWarning: Support for multi-dimensional indexing (e.g. `obj[:, None]`) is deprecated and will be removed in a future version.  Convert to a numpy array before indexing instead.\n",
      "  ary_new = ary_new[:, np.newaxis]\n"
     ]
    }
   ],
   "source": [
    "# mix-max scale the data between 0 and 1\n",
    "# minmax_scaling is a function loaded from library\n",
    "df['ART_scaled']= minmax_scaling(df[\"ART_code\"] , columns=[0])"
   ]
  },
  {
   "cell_type": "code",
   "execution_count": 31,
   "id": "da2964a5",
   "metadata": {},
   "outputs": [
    {
     "data": {
      "text/plain": [
       "14307"
      ]
     },
     "execution_count": 31,
     "metadata": {},
     "output_type": "execute_result"
    }
   ],
   "source": [
    "# number Of Prodect\n",
    "df['ART_Designation'].value_counts().count()"
   ]
  },
  {
   "cell_type": "code",
   "execution_count": 32,
   "id": "f3ff57e4",
   "metadata": {},
   "outputs": [],
   "source": [
    "# delete product with negative quantity\n",
    "def delete_Qte_Negative (df):\n",
    "    return df[df['qte']>0]"
   ]
  },
  {
   "cell_type": "code",
   "execution_count": 33,
   "id": "7b4c3ad8",
   "metadata": {},
   "outputs": [],
   "source": [
    "# delete product with negative price\n",
    "def delete_Price_Negative (df):\n",
    "    return df[df['price']>0]"
   ]
  },
  {
   "cell_type": "code",
   "execution_count": 34,
   "id": "f75ad9c9",
   "metadata": {},
   "outputs": [],
   "source": [
    "df = delete_Qte_Negative (df)\n",
    "df = delete_Price_Negative (df)"
   ]
  },
  {
   "cell_type": "code",
   "execution_count": 35,
   "id": "2421b9cd",
   "metadata": {},
   "outputs": [],
   "source": [
    "df =dff"
   ]
  },
  {
   "cell_type": "code",
   "execution_count": 36,
   "id": "c3873cc7",
   "metadata": {},
   "outputs": [
    {
     "data": {
      "text/plain": [
       "1     282\n",
       "6     263\n",
       "2     194\n",
       "12    129\n",
       "3      57\n",
       "4      51\n",
       "18     36\n",
       "24     15\n",
       "5      12\n",
       "Name: qte, dtype: int64"
      ]
     },
     "execution_count": 36,
     "metadata": {},
     "output_type": "execute_result"
    }
   ],
   "source": [
    "# ust for testing \n",
    "# display the number of a single prodect by quantity\n",
    "df2 = df.groupby(['ART_Designation','qte']).filter(lambda x : len(x)>10)\n",
    "df2[df2['ART_Designation']==\"EAU M. SAFIA 1.5L /QT6\"][\"qte\"].value_counts()"
   ]
  },
  {
   "cell_type": "code",
   "execution_count": 37,
   "id": "4442dca1",
   "metadata": {},
   "outputs": [],
   "source": [
    "# nfaskhou les produits eli ma tbe3oush barsha\n",
    "# mathalan produit tbe3 mara wa7da fi dataset fiha malyoun vente lazem yetfasakh khater yetsama outliers w ynjaem \n",
    "# y8altelna el model \n",
    "#  we delete products which had been sold less than 50 times in the dataset\n",
    "def delete_Outliers(df):\n",
    "    return df.groupby('ART_Designation').filter(lambda x : len(x)>50)"
   ]
  },
  {
   "cell_type": "code",
   "execution_count": 38,
   "id": "8bd75e53",
   "metadata": {},
   "outputs": [],
   "source": [
    "#  we delete << foreach product >> products which had been sold less than 10 times \"grouped by quantity\"  in the dataset\n",
    "def delete_product_Outliers(df):\n",
    "    return df.groupby(['ART_Designation','qte']).filter(lambda x : len(x)>10)"
   ]
  },
  {
   "cell_type": "code",
   "execution_count": 39,
   "id": "336bac98",
   "metadata": {},
   "outputs": [],
   "source": [
    "df = delete_Outliers(df)\n",
    "df = delete_product_Outliers(df)"
   ]
  },
  {
   "cell_type": "code",
   "execution_count": null,
   "id": "e41dbe79",
   "metadata": {},
   "outputs": [],
   "source": [
    "df['day'] = pd.DatetimeIndex(df['ddm']).day\n",
    "df['month'] = pd.DatetimeIndex(df['ddm']).month\n",
    "df['day_of_week'] = pd.DatetimeIndex(df['ddm']).weekday"
   ]
  },
  {
   "cell_type": "code",
   "execution_count": 42,
   "id": "50f5d6f7",
   "metadata": {},
   "outputs": [],
   "source": [
    "df = df.reset_index()"
   ]
  },
  {
   "cell_type": "code",
   "execution_count": 43,
   "id": "b56bbd49",
   "metadata": {},
   "outputs": [
    {
     "data": {
      "text/html": [
       "<div>\n",
       "<style scoped>\n",
       "    .dataframe tbody tr th:only-of-type {\n",
       "        vertical-align: middle;\n",
       "    }\n",
       "\n",
       "    .dataframe tbody tr th {\n",
       "        vertical-align: top;\n",
       "    }\n",
       "\n",
       "    .dataframe thead th {\n",
       "        text-align: right;\n",
       "    }\n",
       "</style>\n",
       "<table border=\"1\" class=\"dataframe\">\n",
       "  <thead>\n",
       "    <tr style=\"text-align: right;\">\n",
       "      <th></th>\n",
       "      <th>index</th>\n",
       "      <th>ART_Designation</th>\n",
       "      <th>price</th>\n",
       "      <th>ddm</th>\n",
       "      <th>qte</th>\n",
       "      <th>ART_code</th>\n",
       "      <th>ART_scaled</th>\n",
       "      <th>day</th>\n",
       "      <th>month</th>\n",
       "      <th>day_of_week</th>\n",
       "    </tr>\n",
       "  </thead>\n",
       "  <tbody>\n",
       "    <tr>\n",
       "      <th>0</th>\n",
       "      <td>0</td>\n",
       "      <td>EAU M. SAFIA 1.5L /QT6</td>\n",
       "      <td>0.600</td>\n",
       "      <td>31/12/2021</td>\n",
       "      <td>2</td>\n",
       "      <td>5381</td>\n",
       "      <td>0.376136</td>\n",
       "      <td>31</td>\n",
       "      <td>12</td>\n",
       "      <td>4</td>\n",
       "    </tr>\n",
       "    <tr>\n",
       "      <th>91</th>\n",
       "      <td>104</td>\n",
       "      <td>EAU M. SAFIA 1.5L /QT6</td>\n",
       "      <td>0.600</td>\n",
       "      <td>31/12/2021</td>\n",
       "      <td>12</td>\n",
       "      <td>5381</td>\n",
       "      <td>0.376136</td>\n",
       "      <td>31</td>\n",
       "      <td>12</td>\n",
       "      <td>4</td>\n",
       "    </tr>\n",
       "    <tr>\n",
       "      <th>283</th>\n",
       "      <td>327</td>\n",
       "      <td>EAU M. SAFIA 1.5L /QT6</td>\n",
       "      <td>0.600</td>\n",
       "      <td>31/12/2021</td>\n",
       "      <td>3</td>\n",
       "      <td>5381</td>\n",
       "      <td>0.376136</td>\n",
       "      <td>31</td>\n",
       "      <td>12</td>\n",
       "      <td>4</td>\n",
       "    </tr>\n",
       "    <tr>\n",
       "      <th>742</th>\n",
       "      <td>876</td>\n",
       "      <td>EAU M. SAFIA 1.5L /QT6</td>\n",
       "      <td>0.600</td>\n",
       "      <td>31/12/2021</td>\n",
       "      <td>18</td>\n",
       "      <td>5381</td>\n",
       "      <td>0.376136</td>\n",
       "      <td>31</td>\n",
       "      <td>12</td>\n",
       "      <td>4</td>\n",
       "    </tr>\n",
       "    <tr>\n",
       "      <th>838</th>\n",
       "      <td>996</td>\n",
       "      <td>EAU M. SAFIA 1.5L /QT6</td>\n",
       "      <td>0.600</td>\n",
       "      <td>31/12/2021</td>\n",
       "      <td>1</td>\n",
       "      <td>5381</td>\n",
       "      <td>0.376136</td>\n",
       "      <td>31</td>\n",
       "      <td>12</td>\n",
       "      <td>4</td>\n",
       "    </tr>\n",
       "    <tr>\n",
       "      <th>...</th>\n",
       "      <td>...</td>\n",
       "      <td>...</td>\n",
       "      <td>...</td>\n",
       "      <td>...</td>\n",
       "      <td>...</td>\n",
       "      <td>...</td>\n",
       "      <td>...</td>\n",
       "      <td>...</td>\n",
       "      <td>...</td>\n",
       "      <td>...</td>\n",
       "    </tr>\n",
       "    <tr>\n",
       "      <th>781472</th>\n",
       "      <td>859865</td>\n",
       "      <td>EAU M. SAFIA 1.5L /QT6</td>\n",
       "      <td>0.600</td>\n",
       "      <td>01/02/2022</td>\n",
       "      <td>6</td>\n",
       "      <td>5381</td>\n",
       "      <td>0.376136</td>\n",
       "      <td>2</td>\n",
       "      <td>1</td>\n",
       "      <td>6</td>\n",
       "    </tr>\n",
       "    <tr>\n",
       "      <th>781637</th>\n",
       "      <td>860046</td>\n",
       "      <td>EAU M. SAFIA 1.5L /QT6</td>\n",
       "      <td>0.583</td>\n",
       "      <td>01/02/2022</td>\n",
       "      <td>1</td>\n",
       "      <td>5381</td>\n",
       "      <td>0.376136</td>\n",
       "      <td>2</td>\n",
       "      <td>1</td>\n",
       "      <td>6</td>\n",
       "    </tr>\n",
       "    <tr>\n",
       "      <th>782899</th>\n",
       "      <td>861395</td>\n",
       "      <td>EAU M. SAFIA 1.5L /QT6</td>\n",
       "      <td>0.600</td>\n",
       "      <td>01/01/2022</td>\n",
       "      <td>6</td>\n",
       "      <td>5381</td>\n",
       "      <td>0.376136</td>\n",
       "      <td>1</td>\n",
       "      <td>1</td>\n",
       "      <td>5</td>\n",
       "    </tr>\n",
       "    <tr>\n",
       "      <th>783619</th>\n",
       "      <td>862197</td>\n",
       "      <td>EAU M. SAFIA 1.5L /QT6</td>\n",
       "      <td>0.600</td>\n",
       "      <td>01/01/2022</td>\n",
       "      <td>1</td>\n",
       "      <td>5381</td>\n",
       "      <td>0.376136</td>\n",
       "      <td>1</td>\n",
       "      <td>1</td>\n",
       "      <td>5</td>\n",
       "    </tr>\n",
       "    <tr>\n",
       "      <th>783673</th>\n",
       "      <td>862257</td>\n",
       "      <td>EAU M. SAFIA 1.5L /QT6</td>\n",
       "      <td>0.600</td>\n",
       "      <td>01/01/2022</td>\n",
       "      <td>2</td>\n",
       "      <td>5381</td>\n",
       "      <td>0.376136</td>\n",
       "      <td>1</td>\n",
       "      <td>1</td>\n",
       "      <td>5</td>\n",
       "    </tr>\n",
       "  </tbody>\n",
       "</table>\n",
       "<p>1039 rows × 10 columns</p>\n",
       "</div>"
      ],
      "text/plain": [
       "         index         ART_Designation  price         ddm  qte  ART_code  \\\n",
       "0            0  EAU M. SAFIA 1.5L /QT6  0.600  31/12/2021    2      5381   \n",
       "91         104  EAU M. SAFIA 1.5L /QT6  0.600  31/12/2021   12      5381   \n",
       "283        327  EAU M. SAFIA 1.5L /QT6  0.600  31/12/2021    3      5381   \n",
       "742        876  EAU M. SAFIA 1.5L /QT6  0.600  31/12/2021   18      5381   \n",
       "838        996  EAU M. SAFIA 1.5L /QT6  0.600  31/12/2021    1      5381   \n",
       "...        ...                     ...    ...         ...  ...       ...   \n",
       "781472  859865  EAU M. SAFIA 1.5L /QT6  0.600  01/02/2022    6      5381   \n",
       "781637  860046  EAU M. SAFIA 1.5L /QT6  0.583  01/02/2022    1      5381   \n",
       "782899  861395  EAU M. SAFIA 1.5L /QT6  0.600  01/01/2022    6      5381   \n",
       "783619  862197  EAU M. SAFIA 1.5L /QT6  0.600  01/01/2022    1      5381   \n",
       "783673  862257  EAU M. SAFIA 1.5L /QT6  0.600  01/01/2022    2      5381   \n",
       "\n",
       "        ART_scaled  day  month  day_of_week  \n",
       "0         0.376136   31     12            4  \n",
       "91        0.376136   31     12            4  \n",
       "283       0.376136   31     12            4  \n",
       "742       0.376136   31     12            4  \n",
       "838       0.376136   31     12            4  \n",
       "...            ...  ...    ...          ...  \n",
       "781472    0.376136    2      1            6  \n",
       "781637    0.376136    2      1            6  \n",
       "782899    0.376136    1      1            5  \n",
       "783619    0.376136    1      1            5  \n",
       "783673    0.376136    1      1            5  \n",
       "\n",
       "[1039 rows x 10 columns]"
      ]
     },
     "execution_count": 43,
     "metadata": {},
     "output_type": "execute_result"
    }
   ],
   "source": [
    "df[df['ART_Designation']==\"EAU M. SAFIA 1.5L /QT6\"]"
   ]
  },
  {
   "cell_type": "code",
   "execution_count": 44,
   "id": "f36132a1",
   "metadata": {},
   "outputs": [],
   "source": [
    "final_df = df[['ART_scaled','day','month','qte']].copy()"
   ]
  },
  {
   "cell_type": "code",
   "execution_count": 45,
   "id": "5920d814",
   "metadata": {},
   "outputs": [
    {
     "data": {
      "text/html": [
       "<div>\n",
       "<style scoped>\n",
       "    .dataframe tbody tr th:only-of-type {\n",
       "        vertical-align: middle;\n",
       "    }\n",
       "\n",
       "    .dataframe tbody tr th {\n",
       "        vertical-align: top;\n",
       "    }\n",
       "\n",
       "    .dataframe thead th {\n",
       "        text-align: right;\n",
       "    }\n",
       "</style>\n",
       "<table border=\"1\" class=\"dataframe\">\n",
       "  <thead>\n",
       "    <tr style=\"text-align: right;\">\n",
       "      <th></th>\n",
       "      <th>ART_scaled</th>\n",
       "      <th>day</th>\n",
       "      <th>month</th>\n",
       "      <th>qte</th>\n",
       "    </tr>\n",
       "  </thead>\n",
       "  <tbody>\n",
       "    <tr>\n",
       "      <th>0</th>\n",
       "      <td>0.376136</td>\n",
       "      <td>31</td>\n",
       "      <td>12</td>\n",
       "      <td>2</td>\n",
       "    </tr>\n",
       "    <tr>\n",
       "      <th>1</th>\n",
       "      <td>0.413952</td>\n",
       "      <td>31</td>\n",
       "      <td>12</td>\n",
       "      <td>1</td>\n",
       "    </tr>\n",
       "    <tr>\n",
       "      <th>2</th>\n",
       "      <td>0.173354</td>\n",
       "      <td>31</td>\n",
       "      <td>12</td>\n",
       "      <td>1</td>\n",
       "    </tr>\n",
       "    <tr>\n",
       "      <th>3</th>\n",
       "      <td>0.926604</td>\n",
       "      <td>31</td>\n",
       "      <td>12</td>\n",
       "      <td>2</td>\n",
       "    </tr>\n",
       "    <tr>\n",
       "      <th>4</th>\n",
       "      <td>0.816930</td>\n",
       "      <td>31</td>\n",
       "      <td>12</td>\n",
       "      <td>2</td>\n",
       "    </tr>\n",
       "    <tr>\n",
       "      <th>...</th>\n",
       "      <td>...</td>\n",
       "      <td>...</td>\n",
       "      <td>...</td>\n",
       "      <td>...</td>\n",
       "    </tr>\n",
       "    <tr>\n",
       "      <th>879259</th>\n",
       "      <td>0.143646</td>\n",
       "      <td>20</td>\n",
       "      <td>10</td>\n",
       "      <td>1</td>\n",
       "    </tr>\n",
       "    <tr>\n",
       "      <th>879260</th>\n",
       "      <td>0.531385</td>\n",
       "      <td>20</td>\n",
       "      <td>10</td>\n",
       "      <td>1</td>\n",
       "    </tr>\n",
       "    <tr>\n",
       "      <th>879261</th>\n",
       "      <td>0.320145</td>\n",
       "      <td>20</td>\n",
       "      <td>10</td>\n",
       "      <td>1</td>\n",
       "    </tr>\n",
       "    <tr>\n",
       "      <th>879262</th>\n",
       "      <td>0.524395</td>\n",
       "      <td>20</td>\n",
       "      <td>10</td>\n",
       "      <td>1</td>\n",
       "    </tr>\n",
       "    <tr>\n",
       "      <th>879263</th>\n",
       "      <td>0.100517</td>\n",
       "      <td>20</td>\n",
       "      <td>10</td>\n",
       "      <td>2</td>\n",
       "    </tr>\n",
       "  </tbody>\n",
       "</table>\n",
       "<p>879264 rows × 4 columns</p>\n",
       "</div>"
      ],
      "text/plain": [
       "        ART_scaled  day  month  qte\n",
       "0         0.376136   31     12    2\n",
       "1         0.413952   31     12    1\n",
       "2         0.173354   31     12    1\n",
       "3         0.926604   31     12    2\n",
       "4         0.816930   31     12    2\n",
       "...            ...  ...    ...  ...\n",
       "879259    0.143646   20     10    1\n",
       "879260    0.531385   20     10    1\n",
       "879261    0.320145   20     10    1\n",
       "879262    0.524395   20     10    1\n",
       "879263    0.100517   20     10    2\n",
       "\n",
       "[879264 rows x 4 columns]"
      ]
     },
     "execution_count": 45,
     "metadata": {},
     "output_type": "execute_result"
    }
   ],
   "source": [
    "# day from 1 to 31\n",
    "final_df"
   ]
  },
  {
   "cell_type": "code",
   "execution_count": 46,
   "id": "73bba156",
   "metadata": {},
   "outputs": [],
   "source": [
    "x=df[['ART_scaled', 'day', 'month']]\n",
    "y=df['qte']"
   ]
  },
  {
   "cell_type": "code",
   "execution_count": 47,
   "id": "baa7b8e7",
   "metadata": {},
   "outputs": [],
   "source": [
    "x_train,x_test,y_train,y_test=train_test_split(x,y,test_size=0.1)"
   ]
  },
  {
   "cell_type": "code",
   "execution_count": 48,
   "id": "57cbe4d3",
   "metadata": {},
   "outputs": [
    {
     "name": "stdout",
     "output_type": "stream",
     "text": [
      "2.9422576206771964\n",
      "[-0.59864966 -0.00821924  0.00400397]\n"
     ]
    }
   ],
   "source": [
    "reg=LinearRegression()\n",
    "reg.fit(x_train,y_train)\n",
    "print ( reg. intercept_ ) \n",
    "print ( reg. coef_ )"
   ]
  },
  {
   "cell_type": "code",
   "execution_count": 49,
   "id": "e30c2073",
   "metadata": {},
   "outputs": [],
   "source": [
    "#Here x.values will have only values without headers\n",
    "y_pred=reg.predict(x_test)"
   ]
  },
  {
   "cell_type": "code",
   "execution_count": 50,
   "id": "1167e448",
   "metadata": {},
   "outputs": [
    {
     "data": {
      "text/html": [
       "<div>\n",
       "<style scoped>\n",
       "    .dataframe tbody tr th:only-of-type {\n",
       "        vertical-align: middle;\n",
       "    }\n",
       "\n",
       "    .dataframe tbody tr th {\n",
       "        vertical-align: top;\n",
       "    }\n",
       "\n",
       "    .dataframe thead th {\n",
       "        text-align: right;\n",
       "    }\n",
       "</style>\n",
       "<table border=\"1\" class=\"dataframe\">\n",
       "  <thead>\n",
       "    <tr style=\"text-align: right;\">\n",
       "      <th></th>\n",
       "      <th>originale</th>\n",
       "      <th>Predictions</th>\n",
       "    </tr>\n",
       "  </thead>\n",
       "  <tbody>\n",
       "    <tr>\n",
       "      <th>436159</th>\n",
       "      <td>1</td>\n",
       "      <td>2.672040</td>\n",
       "    </tr>\n",
       "    <tr>\n",
       "      <th>722198</th>\n",
       "      <td>1</td>\n",
       "      <td>2.339530</td>\n",
       "    </tr>\n",
       "    <tr>\n",
       "      <th>249549</th>\n",
       "      <td>1</td>\n",
       "      <td>2.218330</td>\n",
       "    </tr>\n",
       "    <tr>\n",
       "      <th>178486</th>\n",
       "      <td>12</td>\n",
       "      <td>2.197420</td>\n",
       "    </tr>\n",
       "    <tr>\n",
       "      <th>647771</th>\n",
       "      <td>6</td>\n",
       "      <td>2.708440</td>\n",
       "    </tr>\n",
       "    <tr>\n",
       "      <th>...</th>\n",
       "      <td>...</td>\n",
       "      <td>...</td>\n",
       "    </tr>\n",
       "    <tr>\n",
       "      <th>845045</th>\n",
       "      <td>8</td>\n",
       "      <td>2.405278</td>\n",
       "    </tr>\n",
       "    <tr>\n",
       "      <th>425</th>\n",
       "      <td>2</td>\n",
       "      <td>2.666421</td>\n",
       "    </tr>\n",
       "    <tr>\n",
       "      <th>527739</th>\n",
       "      <td>2</td>\n",
       "      <td>2.597725</td>\n",
       "    </tr>\n",
       "    <tr>\n",
       "      <th>613018</th>\n",
       "      <td>1</td>\n",
       "      <td>2.477845</td>\n",
       "    </tr>\n",
       "    <tr>\n",
       "      <th>108333</th>\n",
       "      <td>1</td>\n",
       "      <td>2.649175</td>\n",
       "    </tr>\n",
       "  </tbody>\n",
       "</table>\n",
       "<p>87927 rows × 2 columns</p>\n",
       "</div>"
      ],
      "text/plain": [
       "        originale  Predictions\n",
       "436159          1     2.672040\n",
       "722198          1     2.339530\n",
       "249549          1     2.218330\n",
       "178486         12     2.197420\n",
       "647771          6     2.708440\n",
       "...           ...          ...\n",
       "845045          8     2.405278\n",
       "425             2     2.666421\n",
       "527739          2     2.597725\n",
       "613018          1     2.477845\n",
       "108333          1     2.649175\n",
       "\n",
       "[87927 rows x 2 columns]"
      ]
     },
     "execution_count": 50,
     "metadata": {},
     "output_type": "execute_result"
    }
   ],
   "source": [
    "reg_df=pd.DataFrame()\n",
    "reg_df['originale']=y_test\n",
    "reg_df['Predictions']=y_pred\n",
    "reg_df"
   ]
  }
 ],
 "metadata": {
  "kernelspec": {
   "display_name": "Python 3.10.5 64-bit",
   "language": "python",
   "name": "python3"
  },
  "language_info": {
   "codemirror_mode": {
    "name": "ipython",
    "version": 3
   },
   "file_extension": ".py",
   "mimetype": "text/x-python",
   "name": "python",
   "nbconvert_exporter": "python",
   "pygments_lexer": "ipython3",
   "version": "3.10.5"
  },
  "vscode": {
   "interpreter": {
    "hash": "897613ab1aa4bea9ec79151ccebecbbbbfcc3701e459b8060ecc561907af02ab"
   }
  }
 },
 "nbformat": 4,
 "nbformat_minor": 5
}
